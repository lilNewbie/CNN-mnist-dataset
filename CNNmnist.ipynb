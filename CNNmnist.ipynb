{
  "nbformat": 4,
  "nbformat_minor": 0,
  "metadata": {
    "colab": {
      "provenance": []
    },
    "kernelspec": {
      "name": "python3",
      "display_name": "Python 3"
    },
    "language_info": {
      "name": "python"
    }
  },
  "cells": [
    {
      "cell_type": "markdown",
      "source": [
        "# **Training a CNN on mnist handwritten digits dataset**"
      ],
      "metadata": {
        "id": "9EPSdkYt4M9R"
      }
    },
    {
      "cell_type": "code",
      "execution_count": null,
      "metadata": {
        "id": "U2QRNhHpaaqV"
      },
      "outputs": [],
      "source": [
        "from tensorflow.keras.datasets import mnist\n",
        "from tensorflow.keras.models import Sequential\n",
        "from tensorflow.keras.layers import Dense\n",
        "(x1_train, y1_train) , (x1_test, y1_test) = mnist.load_data()"
      ]
    },
    {
      "cell_type": "code",
      "source": [
        "x1_train.shape"
      ],
      "metadata": {
        "colab": {
          "base_uri": "https://localhost:8080/"
        },
        "id": "sqSD2dzu4DI4",
        "outputId": "7e5b3795-ec2e-43be-af77-18c2ec6c46ea"
      },
      "execution_count": null,
      "outputs": [
        {
          "output_type": "execute_result",
          "data": {
            "text/plain": [
              "(60000, 28, 28)"
            ]
          },
          "metadata": {},
          "execution_count": 2
        }
      ]
    },
    {
      "cell_type": "code",
      "source": [
        "#images are black and white so it contains only one channel\n",
        "x_train = x1_train.reshape(60000,28,28,1)\n",
        "x_test = x1_test.reshape(10000,28,28,1)"
      ],
      "metadata": {
        "id": "EG2de9h05MB9"
      },
      "execution_count": null,
      "outputs": []
    },
    {
      "cell_type": "code",
      "source": [
        "#convert the target variables to categorical data\n",
        "from tensorflow.keras import utils\n",
        "y_train = utils.to_categorical(y1_train, 10)\n",
        "y_test = utils.to_categorical(y1_test, 10)\n",
        "y_train"
      ],
      "metadata": {
        "colab": {
          "base_uri": "https://localhost:8080/"
        },
        "id": "RmDAIQZB7dJc",
        "outputId": "8c5cb08d-0667-415b-d754-f1768058085d"
      },
      "execution_count": null,
      "outputs": [
        {
          "output_type": "execute_result",
          "data": {
            "text/plain": [
              "array([[0., 0., 0., ..., 0., 0., 0.],\n",
              "       [1., 0., 0., ..., 0., 0., 0.],\n",
              "       [0., 0., 0., ..., 0., 0., 0.],\n",
              "       ...,\n",
              "       [0., 0., 0., ..., 0., 0., 0.],\n",
              "       [0., 0., 0., ..., 0., 0., 0.],\n",
              "       [0., 0., 0., ..., 0., 1., 0.]], dtype=float32)"
            ]
          },
          "metadata": {},
          "execution_count": 4
        }
      ]
    },
    {
      "cell_type": "code",
      "source": [
        "#viewing how the input data and corresponding target variable looks like\n",
        "import matplotlib.pyplot as plt\n",
        "plt.imshow(x1_train[106], cmap='gray')\n",
        "print(y_train[106])\n",
        "#it represents the digit 6\n",
        "#use np.argmax(y_train[106] to get the actual number)"
      ],
      "metadata": {
        "colab": {
          "base_uri": "https://localhost:8080/",
          "height": 282
        },
        "id": "_5Hl6rag9KME",
        "outputId": "eeb89cae-acac-4525-9f2d-bd7c8e6f514f"
      },
      "execution_count": null,
      "outputs": [
        {
          "output_type": "stream",
          "name": "stdout",
          "text": [
            "[0. 0. 0. 0. 0. 0. 1. 0. 0. 0.]\n"
          ]
        },
        {
          "output_type": "display_data",
          "data": {
            "text/plain": [
              "<Figure size 432x288 with 1 Axes>"
            ],
            "image/png": "[encoded data removed]"
          },
          "metadata": {
            "needs_background": "light"
          }
        }
      ]
    },
    {
      "cell_type": "code",
      "source": [],
      "metadata": {
        "id": "nMlNMO1h9zgQ"
      },
      "execution_count": null,
      "outputs": []
    },
    {
      "cell_type": "markdown",
      "source": [
        "# **Building the CNN Model**"
      ],
      "metadata": {
        "id": "smzmP04--f6a"
      }
    },
    {
      "cell_type": "code",
      "source": [
        "model = Sequential()\n",
        "input_layer = Dense(32, input_shape=(28,28,1))\n",
        "model.add(input_layer)\n",
        "#better to take no. of nodes in multiples of 32 when working with images"
      ],
      "metadata": {
        "id": "N-5mCHUE-jta"
      },
      "execution_count": null,
      "outputs": []
    },
    {
      "cell_type": "markdown",
      "source": [
        "Create the convolution layers"
      ],
      "metadata": {
        "id": "CgvJun2l_Q56"
      }
    },
    {
      "cell_type": "code",
      "source": [
        "from tensorflow.keras.layers import Conv2D\n",
        "conv_layer1 = Conv2D(32, kernel_size=(3,3), activation='relu')\n",
        "conv_layer2 = Conv2D(64, (3, 3), activation='relu')\n",
        "model.add(conv_layer1)\n",
        "model.add(conv_layer2)\n",
        "#(3,3) is default kernel size"
      ],
      "metadata": {
        "id": "T7su-7My_AmE"
      },
      "execution_count": null,
      "outputs": []
    },
    {
      "cell_type": "markdown",
      "source": [
        "Create the MaxPooling and Dropout layers"
      ],
      "metadata": {
        "id": "n17POiuxAHjZ"
      }
    },
    {
      "cell_type": "code",
      "source": [
        "from tensorflow.keras.layers import MaxPool2D, Dropout, Flatten\n",
        "pool_layer = MaxPool2D(pool_size=(2,2))\n",
        "drop_layer = Dropout(0.5)\n",
        "flat_layer = Flatten()\n",
        "model.add(pool_layer)\n",
        "model.add(drop_layer)\n",
        "model.add(flat_layer)"
      ],
      "metadata": {
        "id": "eULK7TcEAFtl"
      },
      "execution_count": null,
      "outputs": []
    },
    {
      "cell_type": "code",
      "source": [
        "output_layer = Dense(10, activation='softmax')\n",
        "model.add(output_layer)"
      ],
      "metadata": {
        "id": "PGLqqHJ3C6Ic"
      },
      "execution_count": null,
      "outputs": []
    },
    {
      "cell_type": "code",
      "source": [
        "model.compile(loss='categorical_crossentropy', optimizer='adam', metrics=['accuracy'])"
      ],
      "metadata": {
        "id": "MhnPb-XgDZ03"
      },
      "execution_count": null,
      "outputs": []
    },
    {
      "cell_type": "markdown",
      "source": [
        "# Training the model"
      ],
      "metadata": {
        "id": "3WcVTqVKD6MX"
      }
    },
    {
      "cell_type": "code",
      "source": [
        "history = model.fit(x_train, y_train, batch_size=32, epochs=10, validation_data=(x_test,y_test))"
      ],
      "metadata": {
        "colab": {
          "base_uri": "https://localhost:8080/"
        },
        "id": "laSlQQ71D7Ob",
        "outputId": "7190d0cf-55dc-4280-d163-001c8036bc9e"
      },
      "execution_count": null,
      "outputs": [
        {
          "output_type": "stream",
          "name": "stdout",
          "text": [
            "Epoch 1/10\n",
            "1875/1875 [==============================] - 274s 145ms/step - loss: 0.3277 - accuracy: 0.9313 - val_loss: 0.0785 - val_accuracy: 0.9758\n",
            "Epoch 2/10\n",
            "1875/1875 [==============================] - 259s 138ms/step - loss: 0.1056 - accuracy: 0.9689 - val_loss: 0.0583 - val_accuracy: 0.9818\n",
            "Epoch 3/10\n",
            "1875/1875 [==============================] - 265s 141ms/step - loss: 0.0853 - accuracy: 0.9743 - val_loss: 0.0478 - val_accuracy: 0.9851\n",
            "Epoch 4/10\n",
            "1875/1875 [==============================] - 257s 137ms/step - loss: 0.0657 - accuracy: 0.9788 - val_loss: 0.0523 - val_accuracy: 0.9849\n",
            "Epoch 5/10\n",
            "1875/1875 [==============================] - 253s 135ms/step - loss: 0.0521 - accuracy: 0.9833 - val_loss: 0.0511 - val_accuracy: 0.9847\n",
            "Epoch 6/10\n",
            "1875/1875 [==============================] - 252s 134ms/step - loss: 0.0441 - accuracy: 0.9857 - val_loss: 0.0477 - val_accuracy: 0.9850\n",
            "Epoch 7/10\n",
            "1875/1875 [==============================] - 257s 137ms/step - loss: 0.0387 - accuracy: 0.9877 - val_loss: 0.0423 - val_accuracy: 0.9855\n",
            "Epoch 8/10\n",
            "1875/1875 [==============================] - 256s 137ms/step - loss: 0.0347 - accuracy: 0.9887 - val_loss: 0.0384 - val_accuracy: 0.9867\n",
            "Epoch 9/10\n",
            "1875/1875 [==============================] - 254s 135ms/step - loss: 0.0326 - accuracy: 0.9894 - val_loss: 0.0392 - val_accuracy: 0.9864\n",
            "Epoch 10/10\n",
            "1875/1875 [==============================] - 255s 136ms/step - loss: 0.0302 - accuracy: 0.9905 - val_loss: 0.0410 - val_accuracy: 0.9881\n"
          ]
        }
      ]
    },
    {
      "cell_type": "code",
      "source": [
        "val_loss, val_acc = model.evaluate(x_test, y_test)\n",
        "print(val_loss, val_acc)"
      ],
      "metadata": {
        "colab": {
          "base_uri": "https://localhost:8080/"
        },
        "id": "8s67tCOuVu_r",
        "outputId": "f49cc18c-99c5-4b82-d76d-88fd11da3369"
      },
      "execution_count": null,
      "outputs": [
        {
          "output_type": "stream",
          "name": "stdout",
          "text": [
            "313/313 [==============================] - 10s 31ms/step - loss: 0.0410 - accuracy: 0.9881\n",
            "0.041007500141859055 0.988099992275238\n"
          ]
        }
      ]
    },
    {
      "cell_type": "code",
      "source": [
        "#prediction\n",
        "import numpy as np\n",
        "arr = model.predict([x1_train[350].reshape(1,28,28,1)])\n",
        "label = np.argmax(arr)\n",
        "print(label)"
      ],
      "metadata": {
        "colab": {
          "base_uri": "https://localhost:8080/"
        },
        "id": "zRgS0dmqWcGi",
        "outputId": "3a7007b8-347e-459a-d9c8-9420198b4bab"
      },
      "execution_count": null,
      "outputs": [
        {
          "output_type": "stream",
          "name": "stdout",
          "text": [
            "1/1 [==============================] - 0s 29ms/step\n",
            "9\n"
          ]
        }
      ]
    },
    {
      "cell_type": "code",
      "source": [
        "plt.imshow(x1_train[350])"
      ],
      "metadata": {
        "colab": {
          "base_uri": "https://localhost:8080/",
          "height": 282
        },
        "id": "1HfgR-D3XFrs",
        "outputId": "da8a041f-5cd2-435e-a7ec-ca3ecc570196"
      },
      "execution_count": null,
      "outputs": [
        {
          "output_type": "execute_result",
          "data": {
            "text/plain": [
              "<matplotlib.image.AxesImage at 0x7f34c0144b20>"
            ]
          },
          "metadata": {},
          "execution_count": 15
        },
        {
          "output_type": "display_data",
          "data": {
            "text/plain": [
              "<Figure size 432x288 with 1 Axes>"
            ],
            "image/png": "[encoded data removed]"
          },
          "metadata": {
            "needs_background": "light"
          }
        }
      ]
    },
    {
      "cell_type": "code",
      "source": [
        "model.save(\"model.h5\")\n",
        "print(\"Model saved\")"
      ],
      "metadata": {
        "colab": {
          "base_uri": "https://localhost:8080/"
        },
        "id": "5m-AXAfKYLBh",
        "outputId": "3ae07017-9ffb-4e50-8212-b987f7d25866"
      },
      "execution_count": null,
      "outputs": [
        {
          "output_type": "stream",
          "name": "stdout",
          "text": [
            "Model saved\n"
          ]
        }
      ]
    },
    {
      "cell_type": "markdown",
      "source": [
        "# **Visualizing how accuracy varies with each epoch**"
      ],
      "metadata": {
        "id": "SB1RWd_8dfKJ"
      }
    },
    {
      "cell_type": "code",
      "source": [
        "plt.plot(history.history['accuracy'])\n",
        "plt.plot(history.history['val_accuracy'])\n",
        "plt.title('Model Accuracy')\n",
        "plt.xlabel('Accuracy')\n",
        "plt.ylabel('Epoch')\n",
        "plt.legend(['train','test'], loc='lower right')\n",
        "plt.show()"
      ],
      "metadata": {
        "colab": {
          "base_uri": "https://localhost:8080/",
          "height": 295
        },
        "id": "sDwWR0cLdb1s",
        "outputId": "5ad34132-2285-4b64-e79e-33bfb85a5f21"
      },
      "execution_count": null,
      "outputs": [
        {
          "output_type": "display_data",
          "data": {
            "text/plain": [
              "<Figure size 432x288 with 1 Axes>"
            ],
            "image/png": "[encoded data removed]"
          },
          "metadata": {
            "needs_background": "light"
          }
        }
      ]
    },
    {
      "cell_type": "markdown",
      "source": [
        "# **Visualising how loss varies with each epoch**"
      ],
      "metadata": {
        "id": "ZhFW7UpNwjra"
      }
    },
    {
      "cell_type": "code",
      "source": [
        "plt.plot(history.history['loss'])\n",
        "plt.plot(history.history['val_loss'])\n",
        "plt.title('Model Loss')\n",
        "plt.xlabel('Loss')\n",
        "plt.ylabel('Epoch')\n",
        "plt.legend(['train','test'], loc='upper right')\n",
        "plt.show()"
      ],
      "metadata": {
        "colab": {
          "base_uri": "https://localhost:8080/",
          "height": 295
        },
        "id": "6WVTKIDpwjIJ",
        "outputId": "4e684acd-5038-4e0d-ab51-370f87dc96cb"
      },
      "execution_count": null,
      "outputs": [
        {
          "output_type": "display_data",
          "data": {
            "text/plain": [
              "<Figure size 432x288 with 1 Axes>"
            ],
            "image/png": "[encoded data removed]"
          },
          "metadata": {
            "needs_background": "light"
          }
        }
      ]
    }
  ]
}